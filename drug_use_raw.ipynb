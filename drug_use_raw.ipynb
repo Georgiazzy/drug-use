{
 "cells": [
  {
   "cell_type": "markdown",
   "metadata": {
    "deletable": true,
    "editable": true
   },
   "source": [
    "Questions: \n",
    "1. Which age group use the most drugs of any group? "
   ]
  },
  {
   "cell_type": "code",
   "execution_count": 25,
   "metadata": {
    "collapsed": false,
    "deletable": true,
    "editable": true
   },
   "outputs": [
    {
     "data": {
      "image/png": "[encoded data removed]",
      "text/plain": [
       "<matplotlib.figure.Figure at 0x117d15d68>"
      ]
     },
     "metadata": {},
     "output_type": "display_data"
    }
   ],
   "source": [
    "from IPython.core.debugger import Tracer; \n",
    "import pandas as pd\n",
    "import numpy as np\n",
    "import math\n",
    "% matplotlib inline\n",
    "import matplotlib.pyplot as plt\n",
    "plt.style.use('fivethirtyeight')\n",
    "import seaborn as sns\n",
    "import scipy.stats  as stats\n",
    "\n",
    "#https://github.com/fivethirtyeight/data/blob/master/drug-use-by-age/drug-use-by-age.csv\n",
    "drug_use_by_age_df = pd.read_csv('data/drug-use-by-age.csv', index_col=0).replace('-', np.nan)\n",
    "max_age_group_dict = {}\n",
    "drug_use_by_age_df.head(10)\n",
    "for key in list(drug_use_by_age_df): \n",
    "    max_age_group_dict[key] = drug_use_by_age_df[key].dropna().argmax()\n",
    "fig, ax = plt.subplots()\n"
   ]
  },
  {
   "cell_type": "code",
   "execution_count": null,
   "metadata": {
    "collapsed": true,
    "deletable": true,
    "editable": true
   },
   "outputs": [],
   "source": []
  }
 ],
 "metadata": {
  "kernelspec": {
   "display_name": "Python [conda root]",
   "language": "python",
   "name": "conda-root-py"
  },
  "language_info": {
   "codemirror_mode": {
    "name": "ipython",
    "version": 3
   },
   "file_extension": ".py",
   "mimetype": "text/x-python",
   "name": "python",
   "nbconvert_exporter": "python",
   "pygments_lexer": "ipython3",
   "version": "3.6.0"
  }
 },
 "nbformat": 4,
 "nbformat_minor": 2
}
